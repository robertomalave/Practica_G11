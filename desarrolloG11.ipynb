{
 "cells": [
  {
   "metadata": {},
   "cell_type": "markdown",
   "source": [
    "# Proyecto análisis de transacciones financieras\n",
    "## datos tomados de kaggle del siguiente link: https://www.kaggle.com/datasets/computingvictor/transactions-fraud-datasets?resource=download\n",
    "\n",
    "Para este proyecto se va a analizar los diferentes registros de transacciones relizados en la década de 2010 para ana´lisis del comportmaiento del cliente y pronósticos de gastos"
   ],
   "id": "e9bf087dee6b644f"
  },
  {
   "metadata": {},
   "cell_type": "markdown",
   "source": [
    "# FASE 2\n",
    "### Creación contenedor Docker\n",
    "\n",
    "docker pull postgres\n",
    "docker run --name Inteligencia_negocios -e POSTGRES_USER=admin -e POSTGRES_PASSWORD=inteligencia -e POSTGRES_DB=financial -p 5432:5432 -d postgres"
   ],
   "id": "a6cc5fcbe1616042"
  },
  {
   "metadata": {},
   "cell_type": "markdown",
   "source": [
    "## Conexión con la base de datos de postgres\n",
    "\n",
    "En el proyecto se tiene 3 archivos CSV y 2 archivos jason, se cargará el archivo mas pesado de CSV a la base de datos: \"Transactions_data\""
   ],
   "id": "df86958ed80b6811"
  },
  {
   "metadata": {},
   "cell_type": "code",
   "outputs": [],
   "execution_count": null,
   "source": "",
   "id": "ba6b36a8e96d40c9"
  },
  {
   "metadata": {
    "ExecuteTime": {
     "end_time": "2025-09-08T22:34:35.949526Z",
     "start_time": "2025-09-08T22:34:35.939895Z"
    }
   },
   "cell_type": "code",
   "source": "",
   "id": "7169bf8b141f06a1",
   "outputs": [],
   "execution_count": null
  }
 ],
 "metadata": {
  "kernelspec": {
   "display_name": "Python 3",
   "language": "python",
   "name": "python3"
  },
  "language_info": {
   "codemirror_mode": {
    "name": "ipython",
    "version": 2
   },
   "file_extension": ".py",
   "mimetype": "text/x-python",
   "name": "python",
   "nbconvert_exporter": "python",
   "pygments_lexer": "ipython2",
   "version": "2.7.6"
  }
 },
 "nbformat": 4,
 "nbformat_minor": 5
}
