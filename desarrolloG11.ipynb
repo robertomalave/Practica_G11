{
 "cells": [
  {
   "metadata": {},
   "cell_type": "markdown",
   "source": [
    "# Proyecto análisis de transacciones financieras\n",
    "## datos tomados de kaggle del siguiente link: https://www.kaggle.com/datasets/computingvictor/transactions-fraud-datasets?resource=download\n",
    "\n",
    "Para este proyecto se va a analizar los diferentes registros de transacciones relizados en la década de 2010 para ana´lisis del comportmaiento del cliente y pronósticos de gastos"
   ],
   "id": "e9bf087dee6b644f"
  },
  {
   "metadata": {},
   "cell_type": "code",
   "outputs": [],
   "execution_count": null,
   "source": "",
   "id": "7169bf8b141f06a1"
  }
 ],
 "metadata": {
  "kernelspec": {
   "display_name": "Python 3",
   "language": "python",
   "name": "python3"
  },
  "language_info": {
   "codemirror_mode": {
    "name": "ipython",
    "version": 2
   },
   "file_extension": ".py",
   "mimetype": "text/x-python",
   "name": "python",
   "nbconvert_exporter": "python",
   "pygments_lexer": "ipython2",
   "version": "2.7.6"
  }
 },
 "nbformat": 4,
 "nbformat_minor": 5
}
